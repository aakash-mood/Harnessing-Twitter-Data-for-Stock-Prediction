{
 "cells": [
  {
   "cell_type": "code",
   "execution_count": 1,
   "id": "ca62218e",
   "metadata": {},
   "outputs": [],
   "source": [
    "import pandas as pd\n",
    "import os\n",
    "from datetime import datetime\n",
    "\n",
    "import warnings\n",
    "warnings.filterwarnings('ignore')"
   ]
  },
  {
   "cell_type": "code",
   "execution_count": 2,
   "id": "3ef0095b",
   "metadata": {},
   "outputs": [],
   "source": [
    "current_directory = os.getcwd()\n",
    "stock_df = pd.read_csv(current_directory + '/input/values-of-top-nasdaq-copanies-from-2010-to-2020/CompanyValues.csv')"
   ]
  },
  {
   "cell_type": "code",
   "execution_count": 3,
   "id": "53b42759",
   "metadata": {},
   "outputs": [],
   "source": [
    "def quick_analysis(df):\n",
    "    print(\"Data info:\")\n",
    "    print(df.info())\n",
    "    print(\"-\"*40 + \"\\n\\n\" + \"Rows and Columns:\")\n",
    "    print(df.shape)\n",
    "    print(\"-\"*40 + \"\\n\\n\" + \"Null Values:\")\n",
    "    print(df.apply(lambda x: sum(x.isnull())))\n",
    "    print(\"-\"*40 + \"\\n\\n\" + \"Describes:\")\n",
    "    print(df.describe())"
   ]
  },
  {
   "cell_type": "code",
   "execution_count": 4,
   "id": "622cedf3",
   "metadata": {},
   "outputs": [
    {
     "name": "stdout",
     "output_type": "stream",
     "text": [
      "Data info:\n",
      "<class 'pandas.core.frame.DataFrame'>\n",
      "RangeIndex: 17528 entries, 0 to 17527\n",
      "Data columns (total 7 columns):\n",
      " #   Column         Non-Null Count  Dtype  \n",
      "---  ------         --------------  -----  \n",
      " 0   ticker_symbol  17528 non-null  object \n",
      " 1   day_date       17528 non-null  object \n",
      " 2   close_value    17528 non-null  float64\n",
      " 3   volume         17528 non-null  int64  \n",
      " 4   open_value     17528 non-null  float64\n",
      " 5   high_value     17528 non-null  float64\n",
      " 6   low_value      17528 non-null  float64\n",
      "dtypes: float64(4), int64(1), object(2)\n",
      "memory usage: 958.7+ KB\n",
      "None\n",
      "----------------------------------------\n",
      "\n",
      "Rows and Columns:\n",
      "(17528, 7)\n",
      "----------------------------------------\n",
      "\n",
      "Null Values:\n",
      "ticker_symbol    0\n",
      "day_date         0\n",
      "close_value      0\n",
      "volume           0\n",
      "open_value       0\n",
      "high_value       0\n",
      "low_value        0\n",
      "dtype: int64\n",
      "----------------------------------------\n",
      "\n",
      "Describes:\n",
      "        close_value        volume    open_value    high_value     low_value\n",
      "count  17528.000000  1.752800e+04  17528.000000  17528.000000  17528.000000\n",
      "mean     455.167040  2.025441e+07    455.314451    459.710597    450.466694\n",
      "std      469.324583  3.322733e+07    469.588291    473.771691    464.794791\n",
      "min       15.800000  7.932000e+03     16.140000     16.630000     14.980000\n",
      "25%      100.300000  2.075086e+06     99.883750    100.927500     98.940000\n",
      "50%      256.500000  4.835618e+06    256.095000    259.604500    252.177400\n",
      "75%      735.630000  2.704358e+07    735.740000    742.000000    728.920025\n",
      "max     2497.940000  4.624423e+08   2500.000000   2525.450000   2467.270000\n"
     ]
    },
    {
     "data": {
      "text/html": [
       "<div>\n",
       "<style scoped>\n",
       "    .dataframe tbody tr th:only-of-type {\n",
       "        vertical-align: middle;\n",
       "    }\n",
       "\n",
       "    .dataframe tbody tr th {\n",
       "        vertical-align: top;\n",
       "    }\n",
       "\n",
       "    .dataframe thead th {\n",
       "        text-align: right;\n",
       "    }\n",
       "</style>\n",
       "<table border=\"1\" class=\"dataframe\">\n",
       "  <thead>\n",
       "    <tr style=\"text-align: right;\">\n",
       "      <th></th>\n",
       "      <th>ticker_symbol</th>\n",
       "      <th>day_date</th>\n",
       "      <th>close_value</th>\n",
       "      <th>volume</th>\n",
       "      <th>open_value</th>\n",
       "      <th>high_value</th>\n",
       "      <th>low_value</th>\n",
       "    </tr>\n",
       "  </thead>\n",
       "  <tbody>\n",
       "    <tr>\n",
       "      <th>0</th>\n",
       "      <td>AAPL</td>\n",
       "      <td>2020-05-29</td>\n",
       "      <td>317.94</td>\n",
       "      <td>38399530</td>\n",
       "      <td>319.25</td>\n",
       "      <td>321.15</td>\n",
       "      <td>316.47</td>\n",
       "    </tr>\n",
       "    <tr>\n",
       "      <th>1</th>\n",
       "      <td>AAPL</td>\n",
       "      <td>2020-05-28</td>\n",
       "      <td>318.25</td>\n",
       "      <td>33449100</td>\n",
       "      <td>316.77</td>\n",
       "      <td>323.44</td>\n",
       "      <td>315.63</td>\n",
       "    </tr>\n",
       "    <tr>\n",
       "      <th>2</th>\n",
       "      <td>AAPL</td>\n",
       "      <td>2020-05-27</td>\n",
       "      <td>318.11</td>\n",
       "      <td>28236270</td>\n",
       "      <td>316.14</td>\n",
       "      <td>318.71</td>\n",
       "      <td>313.09</td>\n",
       "    </tr>\n",
       "    <tr>\n",
       "      <th>3</th>\n",
       "      <td>AAPL</td>\n",
       "      <td>2020-05-26</td>\n",
       "      <td>316.73</td>\n",
       "      <td>31380450</td>\n",
       "      <td>323.50</td>\n",
       "      <td>324.24</td>\n",
       "      <td>316.50</td>\n",
       "    </tr>\n",
       "    <tr>\n",
       "      <th>4</th>\n",
       "      <td>AAPL</td>\n",
       "      <td>2020-05-22</td>\n",
       "      <td>318.89</td>\n",
       "      <td>20450750</td>\n",
       "      <td>315.77</td>\n",
       "      <td>319.23</td>\n",
       "      <td>315.35</td>\n",
       "    </tr>\n",
       "  </tbody>\n",
       "</table>\n",
       "</div>"
      ],
      "text/plain": [
       "  ticker_symbol    day_date  close_value    volume  open_value  high_value  \\\n",
       "0          AAPL  2020-05-29       317.94  38399530      319.25      321.15   \n",
       "1          AAPL  2020-05-28       318.25  33449100      316.77      323.44   \n",
       "2          AAPL  2020-05-27       318.11  28236270      316.14      318.71   \n",
       "3          AAPL  2020-05-26       316.73  31380450      323.50      324.24   \n",
       "4          AAPL  2020-05-22       318.89  20450750      315.77      319.23   \n",
       "\n",
       "   low_value  \n",
       "0     316.47  \n",
       "1     315.63  \n",
       "2     313.09  \n",
       "3     316.50  \n",
       "4     315.35  "
      ]
     },
     "execution_count": 4,
     "metadata": {},
     "output_type": "execute_result"
    }
   ],
   "source": [
    "quick_analysis(stock_df)\n",
    "stock_df.head()"
   ]
  },
  {
   "cell_type": "code",
   "execution_count": 5,
   "id": "1ce3c0b7",
   "metadata": {},
   "outputs": [],
   "source": [
    "stock_df['date_time']  = pd.to_datetime(stock_df['day_date'])\n",
    "stock_df['date'] = stock_df['date_time'].dt.date\n",
    "stock_df = stock_df.sort_values(by=\"date\")"
   ]
  },
  {
   "cell_type": "code",
   "execution_count": 6,
   "id": "92c44efb",
   "metadata": {},
   "outputs": [],
   "source": [
    "stock_df['prev_close_value'] = stock_df.groupby('ticker_symbol')['close_value'].shift(1)\n",
    "stock_df['prev_close_value'].fillna(0, inplace=True)"
   ]
  },
  {
   "cell_type": "code",
   "execution_count": 7,
   "id": "48b1c1c1",
   "metadata": {},
   "outputs": [
    {
     "data": {
      "text/html": [
       "<div>\n",
       "<style scoped>\n",
       "    .dataframe tbody tr th:only-of-type {\n",
       "        vertical-align: middle;\n",
       "    }\n",
       "\n",
       "    .dataframe tbody tr th {\n",
       "        vertical-align: top;\n",
       "    }\n",
       "\n",
       "    .dataframe thead th {\n",
       "        text-align: right;\n",
       "    }\n",
       "</style>\n",
       "<table border=\"1\" class=\"dataframe\">\n",
       "  <thead>\n",
       "    <tr style=\"text-align: right;\">\n",
       "      <th></th>\n",
       "      <th>ticker_symbol</th>\n",
       "      <th>day_date</th>\n",
       "      <th>close_value</th>\n",
       "      <th>volume</th>\n",
       "      <th>open_value</th>\n",
       "      <th>high_value</th>\n",
       "      <th>low_value</th>\n",
       "      <th>date_time</th>\n",
       "      <th>date</th>\n",
       "      <th>prev_close_value</th>\n",
       "    </tr>\n",
       "  </thead>\n",
       "  <tbody>\n",
       "    <tr>\n",
       "      <th>5601</th>\n",
       "      <td>AMZN</td>\n",
       "      <td>2010-06-01</td>\n",
       "      <td>123.2400</td>\n",
       "      <td>3650661</td>\n",
       "      <td>124.9700</td>\n",
       "      <td>126.5720</td>\n",
       "      <td>123.0200</td>\n",
       "      <td>2010-06-01</td>\n",
       "      <td>2010-06-01</td>\n",
       "      <td>0.0000</td>\n",
       "    </tr>\n",
       "    <tr>\n",
       "      <th>2516</th>\n",
       "      <td>AAPL</td>\n",
       "      <td>2010-06-01</td>\n",
       "      <td>37.2614</td>\n",
       "      <td>218455576</td>\n",
       "      <td>37.0986</td>\n",
       "      <td>37.9914</td>\n",
       "      <td>36.9943</td>\n",
       "      <td>2010-06-01</td>\n",
       "      <td>2010-06-01</td>\n",
       "      <td>0.0000</td>\n",
       "    </tr>\n",
       "    <tr>\n",
       "      <th>8686</th>\n",
       "      <td>GOOGL</td>\n",
       "      <td>2010-06-01</td>\n",
       "      <td>243.6667</td>\n",
       "      <td>2664303</td>\n",
       "      <td>242.6868</td>\n",
       "      <td>248.0565</td>\n",
       "      <td>242.5302</td>\n",
       "      <td>2010-06-01</td>\n",
       "      <td>2010-06-01</td>\n",
       "      <td>0.0000</td>\n",
       "    </tr>\n",
       "    <tr>\n",
       "      <th>13894</th>\n",
       "      <td>MSFT</td>\n",
       "      <td>2010-06-01</td>\n",
       "      <td>25.8900</td>\n",
       "      <td>76120800</td>\n",
       "      <td>25.5300</td>\n",
       "      <td>26.3100</td>\n",
       "      <td>25.5200</td>\n",
       "      <td>2010-06-01</td>\n",
       "      <td>2010-06-01</td>\n",
       "      <td>0.0000</td>\n",
       "    </tr>\n",
       "    <tr>\n",
       "      <th>8685</th>\n",
       "      <td>GOOGL</td>\n",
       "      <td>2010-06-02</td>\n",
       "      <td>249.2233</td>\n",
       "      <td>2513109</td>\n",
       "      <td>245.8439</td>\n",
       "      <td>249.4759</td>\n",
       "      <td>243.2071</td>\n",
       "      <td>2010-06-02</td>\n",
       "      <td>2010-06-02</td>\n",
       "      <td>243.6667</td>\n",
       "    </tr>\n",
       "  </tbody>\n",
       "</table>\n",
       "</div>"
      ],
      "text/plain": [
       "      ticker_symbol    day_date  close_value     volume  open_value  \\\n",
       "5601           AMZN  2010-06-01     123.2400    3650661    124.9700   \n",
       "2516           AAPL  2010-06-01      37.2614  218455576     37.0986   \n",
       "8686          GOOGL  2010-06-01     243.6667    2664303    242.6868   \n",
       "13894          MSFT  2010-06-01      25.8900   76120800     25.5300   \n",
       "8685          GOOGL  2010-06-02     249.2233    2513109    245.8439   \n",
       "\n",
       "       high_value  low_value  date_time        date  prev_close_value  \n",
       "5601     126.5720   123.0200 2010-06-01  2010-06-01            0.0000  \n",
       "2516      37.9914    36.9943 2010-06-01  2010-06-01            0.0000  \n",
       "8686     248.0565   242.5302 2010-06-01  2010-06-01            0.0000  \n",
       "13894     26.3100    25.5200 2010-06-01  2010-06-01            0.0000  \n",
       "8685     249.4759   243.2071 2010-06-02  2010-06-02          243.6667  "
      ]
     },
     "execution_count": 7,
     "metadata": {},
     "output_type": "execute_result"
    }
   ],
   "source": [
    "stock_df.head()"
   ]
  },
  {
   "cell_type": "code",
   "execution_count": 8,
   "id": "7500a1c0",
   "metadata": {},
   "outputs": [
    {
     "data": {
      "text/plain": [
       "<AxesSubplot:xlabel='date_time'>"
      ]
     },
     "execution_count": 8,
     "metadata": {},
     "output_type": "execute_result"
    },
    {
     "data": {
      "image/png": "[encoded data removed]",
      "text/plain": [
       "<Figure size 640x480 with 1 Axes>"
      ]
     },
     "metadata": {},
     "output_type": "display_data"
    }
   ],
   "source": [
    "stock_df[stock_df['ticker_symbol'] == 'TSLA'].plot(x='date_time', y='close_value')"
   ]
  },
  {
   "cell_type": "code",
   "execution_count": 9,
   "id": "fb432b67",
   "metadata": {},
   "outputs": [],
   "source": [
    "start_date = datetime(2015, 1, 1)\n",
    "end_date = datetime(2019, 12, 31)\n",
    "\n",
    "stock_df = stock_df[(stock_df['date_time'] >= start_date) & (stock_df['date_time'] <= end_date)]"
   ]
  },
  {
   "cell_type": "code",
   "execution_count": 10,
   "id": "96b79158",
   "metadata": {},
   "outputs": [
    {
     "data": {
      "text/plain": [
       "<AxesSubplot:xlabel='date_time'>"
      ]
     },
     "execution_count": 10,
     "metadata": {},
     "output_type": "execute_result"
    },
    {
     "data": {
      "image/png": "[encoded data removed]",
      "text/plain": [
       "<Figure size 640x480 with 1 Axes>"
      ]
     },
     "metadata": {},
     "output_type": "display_data"
    }
   ],
   "source": [
    "stock_df[stock_df['ticker_symbol'] == 'AAPL'].plot(x='date_time', y='close_value')"
   ]
  },
  {
   "cell_type": "code",
   "execution_count": 11,
   "id": "4dfd66f2",
   "metadata": {},
   "outputs": [],
   "source": [
    "processed_file_path = current_directory + '/input/processed_data/stocks.csv'\n",
    "stock_df.to_csv(processed_file_path, index=False)"
   ]
  }
 ],
 "metadata": {
  "kernelspec": {
   "display_name": "Python 3 (ipykernel)",
   "language": "python",
   "name": "python3"
  },
  "language_info": {
   "codemirror_mode": {
    "name": "ipython",
    "version": 3
   },
   "file_extension": ".py",
   "mimetype": "text/x-python",
   "name": "python",
   "nbconvert_exporter": "python",
   "pygments_lexer": "ipython3",
   "version": "3.9.13"
  }
 },
 "nbformat": 4,
 "nbformat_minor": 5
}
