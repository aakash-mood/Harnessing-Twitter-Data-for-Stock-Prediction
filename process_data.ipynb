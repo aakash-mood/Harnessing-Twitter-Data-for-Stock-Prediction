{
 "cells": [
  {
   "cell_type": "code",
   "execution_count": 1,
   "id": "bb33f6cf",
   "metadata": {},
   "outputs": [],
   "source": [
    "import pandas as pd\n",
    "import os\n",
    "from sklearn.preprocessing import OneHotEncoder\n",
    "\n",
    "import warnings\n",
    "warnings.filterwarnings('ignore')"
   ]
  },
  {
   "cell_type": "code",
   "execution_count": 2,
   "id": "ac4e7f7f",
   "metadata": {},
   "outputs": [],
   "source": [
    "current_directory = os.getcwd()\n",
    "\n",
    "stock_df = pd.read_csv(current_directory + '/input/processed_data/stocks.csv')\n",
    "tweet_df = pd.read_csv(current_directory + '/input/processed_data/tweets.csv')"
   ]
  },
  {
   "cell_type": "code",
   "execution_count": 3,
   "id": "9597a7a6",
   "metadata": {},
   "outputs": [],
   "source": [
    "stock_df['date_time'] = pd.to_datetime(stock_df['date_time'])\n",
    "stock_df['date'] = stock_df['date_time'].dt.date\n",
    "tweet_df['date_time'] = pd.to_datetime(tweet_df['date_time'])\n",
    "tweet_df['date'] = tweet_df['date_time'].dt.date"
   ]
  },
  {
   "cell_type": "code",
   "execution_count": 4,
   "id": "3ee6a9d0",
   "metadata": {},
   "outputs": [],
   "source": [
    "total_engagement_threshold = 0\n",
    "tweet_df = tweet_df[tweet_df['total_engangement'] > total_engagement_threshold]"
   ]
  },
  {
   "cell_type": "code",
   "execution_count": 5,
   "id": "270752be",
   "metadata": {},
   "outputs": [],
   "source": [
    "aggregate_tweet_df = tweet_df.groupby(['ticker_symbol', 'date']).agg({\n",
    "    'afinn_score': 'mean',\n",
    "    'vader_sentiment': lambda x: x.mode().iloc[0],\n",
    "    'tweet': 'count',\n",
    "    'total_engangement': 'sum'\n",
    "}).reset_index()"
   ]
  },
  {
   "cell_type": "code",
   "execution_count": 6,
   "id": "dc3363a6",
   "metadata": {},
   "outputs": [
    {
     "data": {
      "text/html": [
       "<div>\n",
       "<style scoped>\n",
       "    .dataframe tbody tr th:only-of-type {\n",
       "        vertical-align: middle;\n",
       "    }\n",
       "\n",
       "    .dataframe tbody tr th {\n",
       "        vertical-align: top;\n",
       "    }\n",
       "\n",
       "    .dataframe thead th {\n",
       "        text-align: right;\n",
       "    }\n",
       "</style>\n",
       "<table border=\"1\" class=\"dataframe\">\n",
       "  <thead>\n",
       "    <tr style=\"text-align: right;\">\n",
       "      <th></th>\n",
       "      <th>ticker_symbol</th>\n",
       "      <th>date</th>\n",
       "      <th>afinn_score</th>\n",
       "      <th>tweet</th>\n",
       "      <th>total_engangement</th>\n",
       "      <th>vader_sentiment_Negative</th>\n",
       "      <th>vader_sentiment_Neutral</th>\n",
       "      <th>vader_sentiment_Positive</th>\n",
       "    </tr>\n",
       "  </thead>\n",
       "  <tbody>\n",
       "    <tr>\n",
       "      <th>0</th>\n",
       "      <td>AAPL</td>\n",
       "      <td>2015-01-01</td>\n",
       "      <td>0.477707</td>\n",
       "      <td>155</td>\n",
       "      <td>1699</td>\n",
       "      <td>0.0</td>\n",
       "      <td>1.0</td>\n",
       "      <td>0.0</td>\n",
       "    </tr>\n",
       "    <tr>\n",
       "      <th>1</th>\n",
       "      <td>AAPL</td>\n",
       "      <td>2015-01-02</td>\n",
       "      <td>0.383178</td>\n",
       "      <td>319</td>\n",
       "      <td>2373</td>\n",
       "      <td>0.0</td>\n",
       "      <td>1.0</td>\n",
       "      <td>0.0</td>\n",
       "    </tr>\n",
       "    <tr>\n",
       "      <th>2</th>\n",
       "      <td>AAPL</td>\n",
       "      <td>2015-01-03</td>\n",
       "      <td>0.845455</td>\n",
       "      <td>110</td>\n",
       "      <td>280</td>\n",
       "      <td>0.0</td>\n",
       "      <td>0.0</td>\n",
       "      <td>1.0</td>\n",
       "    </tr>\n",
       "    <tr>\n",
       "      <th>3</th>\n",
       "      <td>AAPL</td>\n",
       "      <td>2015-01-04</td>\n",
       "      <td>0.451852</td>\n",
       "      <td>134</td>\n",
       "      <td>717</td>\n",
       "      <td>0.0</td>\n",
       "      <td>0.0</td>\n",
       "      <td>1.0</td>\n",
       "    </tr>\n",
       "    <tr>\n",
       "      <th>4</th>\n",
       "      <td>AAPL</td>\n",
       "      <td>2015-01-05</td>\n",
       "      <td>0.512953</td>\n",
       "      <td>381</td>\n",
       "      <td>1151</td>\n",
       "      <td>0.0</td>\n",
       "      <td>0.0</td>\n",
       "      <td>1.0</td>\n",
       "    </tr>\n",
       "  </tbody>\n",
       "</table>\n",
       "</div>"
      ],
      "text/plain": [
       "  ticker_symbol        date  afinn_score  tweet  total_engangement  \\\n",
       "0          AAPL  2015-01-01     0.477707    155               1699   \n",
       "1          AAPL  2015-01-02     0.383178    319               2373   \n",
       "2          AAPL  2015-01-03     0.845455    110                280   \n",
       "3          AAPL  2015-01-04     0.451852    134                717   \n",
       "4          AAPL  2015-01-05     0.512953    381               1151   \n",
       "\n",
       "   vader_sentiment_Negative  vader_sentiment_Neutral  vader_sentiment_Positive  \n",
       "0                       0.0                      1.0                       0.0  \n",
       "1                       0.0                      1.0                       0.0  \n",
       "2                       0.0                      0.0                       1.0  \n",
       "3                       0.0                      0.0                       1.0  \n",
       "4                       0.0                      0.0                       1.0  "
      ]
     },
     "execution_count": 6,
     "metadata": {},
     "output_type": "execute_result"
    }
   ],
   "source": [
    "categorical_columns = ['vader_sentiment']\n",
    "encoder = OneHotEncoder()\n",
    "aggregate_tweet_df_encoded = encoder.fit_transform(aggregate_tweet_df[categorical_columns])\n",
    "feature_names = encoder.get_feature_names_out(input_features=categorical_columns)\n",
    "aggregate_tweet_df = pd.concat([aggregate_tweet_df.drop(categorical_columns, axis=1), pd.DataFrame(aggregate_tweet_df_encoded.toarray(), columns=feature_names)], axis=1)\n",
    "aggregate_tweet_df.head()"
   ]
  },
  {
   "cell_type": "code",
   "execution_count": 7,
   "id": "c1f21260",
   "metadata": {},
   "outputs": [],
   "source": [
    "aggregate_tweet_df.rename(columns={\n",
    "    'afinn_score': 'average_afinn_score',\n",
    "    'vader_sentiment_Negative': 'vader_sentiment_negative',\n",
    "    'vader_sentiment_Neutral': 'vader_sentiment_neutral',\n",
    "    'vader_sentiment_Positive': 'vader_sentiment_positive',\n",
    "    'tweet': 'tweet_count',\n",
    "    'total_engangement': 'tweet_total_engagement'\n",
    "}, inplace=True)"
   ]
  },
  {
   "cell_type": "code",
   "execution_count": 8,
   "id": "41a19790",
   "metadata": {},
   "outputs": [
    {
     "data": {
      "text/html": [
       "<div>\n",
       "<style scoped>\n",
       "    .dataframe tbody tr th:only-of-type {\n",
       "        vertical-align: middle;\n",
       "    }\n",
       "\n",
       "    .dataframe tbody tr th {\n",
       "        vertical-align: top;\n",
       "    }\n",
       "\n",
       "    .dataframe thead th {\n",
       "        text-align: right;\n",
       "    }\n",
       "</style>\n",
       "<table border=\"1\" class=\"dataframe\">\n",
       "  <thead>\n",
       "    <tr style=\"text-align: right;\">\n",
       "      <th></th>\n",
       "      <th>ticker_symbol</th>\n",
       "      <th>date</th>\n",
       "      <th>average_afinn_score</th>\n",
       "      <th>vader_sentiment_negative</th>\n",
       "      <th>vader_sentiment_neutral</th>\n",
       "      <th>vader_sentiment_positive</th>\n",
       "      <th>tweet_count</th>\n",
       "      <th>tweet_total_engagement</th>\n",
       "    </tr>\n",
       "  </thead>\n",
       "  <tbody>\n",
       "    <tr>\n",
       "      <th>0</th>\n",
       "      <td>AAPL</td>\n",
       "      <td>2015-01-01</td>\n",
       "      <td>0.477707</td>\n",
       "      <td>0.0</td>\n",
       "      <td>1.0</td>\n",
       "      <td>0.0</td>\n",
       "      <td>155</td>\n",
       "      <td>1699</td>\n",
       "    </tr>\n",
       "    <tr>\n",
       "      <th>1</th>\n",
       "      <td>AAPL</td>\n",
       "      <td>2015-01-02</td>\n",
       "      <td>0.383178</td>\n",
       "      <td>0.0</td>\n",
       "      <td>1.0</td>\n",
       "      <td>0.0</td>\n",
       "      <td>319</td>\n",
       "      <td>2373</td>\n",
       "    </tr>\n",
       "    <tr>\n",
       "      <th>2</th>\n",
       "      <td>AAPL</td>\n",
       "      <td>2015-01-03</td>\n",
       "      <td>0.845455</td>\n",
       "      <td>0.0</td>\n",
       "      <td>0.0</td>\n",
       "      <td>1.0</td>\n",
       "      <td>110</td>\n",
       "      <td>280</td>\n",
       "    </tr>\n",
       "    <tr>\n",
       "      <th>3</th>\n",
       "      <td>AAPL</td>\n",
       "      <td>2015-01-04</td>\n",
       "      <td>0.451852</td>\n",
       "      <td>0.0</td>\n",
       "      <td>0.0</td>\n",
       "      <td>1.0</td>\n",
       "      <td>134</td>\n",
       "      <td>717</td>\n",
       "    </tr>\n",
       "    <tr>\n",
       "      <th>4</th>\n",
       "      <td>AAPL</td>\n",
       "      <td>2015-01-05</td>\n",
       "      <td>0.512953</td>\n",
       "      <td>0.0</td>\n",
       "      <td>0.0</td>\n",
       "      <td>1.0</td>\n",
       "      <td>381</td>\n",
       "      <td>1151</td>\n",
       "    </tr>\n",
       "  </tbody>\n",
       "</table>\n",
       "</div>"
      ],
      "text/plain": [
       "  ticker_symbol        date  average_afinn_score  vader_sentiment_negative  \\\n",
       "0          AAPL  2015-01-01             0.477707                       0.0   \n",
       "1          AAPL  2015-01-02             0.383178                       0.0   \n",
       "2          AAPL  2015-01-03             0.845455                       0.0   \n",
       "3          AAPL  2015-01-04             0.451852                       0.0   \n",
       "4          AAPL  2015-01-05             0.512953                       0.0   \n",
       "\n",
       "   vader_sentiment_neutral  vader_sentiment_positive  tweet_count  \\\n",
       "0                      1.0                       0.0          155   \n",
       "1                      1.0                       0.0          319   \n",
       "2                      0.0                       1.0          110   \n",
       "3                      0.0                       1.0          134   \n",
       "4                      0.0                       1.0          381   \n",
       "\n",
       "   tweet_total_engagement  \n",
       "0                    1699  \n",
       "1                    2373  \n",
       "2                     280  \n",
       "3                     717  \n",
       "4                    1151  "
      ]
     },
     "execution_count": 8,
     "metadata": {},
     "output_type": "execute_result"
    }
   ],
   "source": [
    "tweet_columns = ['ticker_symbol', 'date', 'average_afinn_score', 'vader_sentiment_negative', 'vader_sentiment_neutral', 'vader_sentiment_positive', 'tweet_count', 'tweet_total_engagement']\n",
    "aggregate_tweet_df = aggregate_tweet_df[tweet_columns]\n",
    "aggregate_tweet_df = aggregate_tweet_df.reset_index(drop=True)\n",
    "aggregate_tweet_df.head()"
   ]
  },
  {
   "cell_type": "code",
   "execution_count": 9,
   "id": "3b0bf4ec",
   "metadata": {},
   "outputs": [],
   "source": [
    "stock_df['year'] = stock_df['date_time'].dt.year\n",
    "stock_df['month'] = stock_df['date_time'].dt.month\n",
    "stock_df['day'] = stock_df['date_time'].dt.day"
   ]
  },
  {
   "cell_type": "code",
   "execution_count": 10,
   "id": "bd2296c7",
   "metadata": {},
   "outputs": [],
   "source": [
    "stock_df.rename(columns = {\n",
    "    'volume': 'stock_volume',\n",
    "}, inplace=True)"
   ]
  },
  {
   "cell_type": "code",
   "execution_count": 11,
   "id": "459fd6f0",
   "metadata": {},
   "outputs": [],
   "source": [
    "# stock_columns = ['ticker_symbol', 'date', 'year', 'month', 'day', 'stock_volume', 'close_value', 'prev_close_value']\n",
    "stock_columns = ['ticker_symbol', 'date', 'close_value']\n",
    "aggregate_stock_df = stock_df[stock_columns]"
   ]
  },
  {
   "cell_type": "code",
   "execution_count": 12,
   "id": "1552be8c",
   "metadata": {},
   "outputs": [],
   "source": [
    "merged_df = pd.merge(aggregate_stock_df, aggregate_tweet_df, on=['ticker_symbol', 'date'], how='inner')"
   ]
  },
  {
   "cell_type": "code",
   "execution_count": 13,
   "id": "0a60d724",
   "metadata": {},
   "outputs": [
    {
     "data": {
      "text/plain": [
       "ticker_symbol    11\n",
       "missing_date     11\n",
       "dtype: int64"
      ]
     },
     "execution_count": 13,
     "metadata": {},
     "output_type": "execute_result"
    }
   ],
   "source": [
    "date_range = pd.date_range(start='2015-01-01', end='2019-12-31')\n",
    "\n",
    "grouped = merged_df.groupby('ticker_symbol')\n",
    "\n",
    "missing_dates_df = pd.DataFrame(columns=['ticker_symbol', 'missing_date'])\n",
    "\n",
    "for ticker_symbol, group in grouped:\n",
    "    existing_dates = group['date']\n",
    "    \n",
    "    missing_dates = date_range.difference(existing_dates)\n",
    "    missing_dates_for_ticker = pd.DataFrame({'ticker_symbol': [ticker_symbol] * len(missing_dates),\n",
    "                                              'missing_date': missing_dates})\n",
    "    \n",
    "    missing_dates_df = missing_dates_df.append(missing_dates_for_ticker, ignore_index=True)\n",
    "    \n",
    "missing_dates_df.count()"
   ]
  },
  {
   "cell_type": "code",
   "execution_count": 14,
   "id": "ff176645",
   "metadata": {},
   "outputs": [],
   "source": [
    "processed_file_path = current_directory + '/input/processed_data/tweets_and_stock.csv'\n",
    "merged_df.to_csv(processed_file_path, index=False)"
   ]
  },
  {
   "cell_type": "code",
   "execution_count": null,
   "id": "09b54a48",
   "metadata": {},
   "outputs": [],
   "source": []
  }
 ],
 "metadata": {
  "kernelspec": {
   "display_name": "Python 3 (ipykernel)",
   "language": "python",
   "name": "python3"
  },
  "language_info": {
   "codemirror_mode": {
    "name": "ipython",
    "version": 3
   },
   "file_extension": ".py",
   "mimetype": "text/x-python",
   "name": "python",
   "nbconvert_exporter": "python",
   "pygments_lexer": "ipython3",
   "version": "3.9.13"
  }
 },
 "nbformat": 4,
 "nbformat_minor": 5
}
